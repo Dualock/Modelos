{
 "cells": [
  {
   "cell_type": "markdown",
   "metadata": {},
   "source": [
    "---\n",
    "### Universidad de Costa Rica\n",
    "#### IE0405 - Modelos Probabilísticos de Señales y Sistemas\n",
    "\n",
    "Segundo ciclo del 2022\n",
    "\n",
    "---\n",
    "\n",
    "[comment]: <> (Modificar esta sección con datos personales)\n",
    "\n",
    "* Estudiante: **Dualok Fonseca Monge**\n",
    "* Carné: **B42629**\n",
    "* Grupo: **1/2/3**\n",
    "\n",
    "# `P1` - *Introducción a Python*\n",
    "\n",
    "> Este es un ejercicio de introducción a Python como lenguaje para computación científica y cálculo numérico. Estas mismas herramientas (y otras) serán fundamentales en el resto del curso para apoyar la solución de problemas de la teoría de probabilidad.\n",
    "\n",
    "**Nota**: Es recomendable revisar los tutoriales `Py0`, `Py1` y `Py2` (disponibles [aquí](https://github.com/fabianabarca/mpss)) para conocer las bases de Python útiles en la ejecución de este laboratorio.\n",
    "\n",
    "---"
   ]
  },
  {
   "cell_type": "markdown",
   "metadata": {},
   "source": [
    "---\n",
    "## Problema\n",
    "\n",
    "El documento `compras.csv` describe las compras de $N$ clientes que entraron a una pequeña tienda que vende solamente cuatro productos: A, B, C y D. En esta tabla, los clientes están numerados del 1 al $N$ y en la $n$-ésima fila las columnas \"A\", \"B\", \"C\" y \"D\" tienen un 1 cuando la persona compró el producto o un 0 cuando no. Por ejemplo:\n",
    "\n",
    "| Cliente | A | B | C | D |\n",
    "|---------|---|---|---|---|\n",
    "| 1       | 0 | 1 | 0 | 1 |\n",
    "| 2       | 1 | 0 | 1 | 0 |\n",
    "| 3       | 0 | 0 | 0 | 0 |\n",
    "| 4       | 0 | 1 | 1 | 0 |\n",
    "\n",
    "### Asignaciones\n",
    "\n",
    "1. [15%] Importar los datos y encontrar la frecuencia relativa de compra de cada producto (porcentaje de clientes que compraron cada producto).\n",
    "\n",
    "2. [10%] Crear una gráfica de barras, donde la altura de cada barra representa la cantidad de compras de cada producto. Por ejemplo:\n",
    "<img src=\"https://matplotlib.org/stable/_images/sphx_glr_bar_001.png\" width=\"200px\">\n",
    "\n",
    "> Nota: la gráfica y sus ejes deben estar rotulados."
   ]
  },
  {
   "cell_type": "markdown",
   "metadata": {},
   "source": [
    "3. [20%] Encontrar la frecuencia relativa de todas las combinaciones de los cuatro productos vendidos. Por ejemplo: un cliente que compra todos los productos (1, 1, 1, 1) es una combinación, un cliente que solamente compra el producto C (0, 0, 1, 0) es otra combinación.\n",
    "\n",
    "4. [10%] Crear una gráfica de frecuencia relativa donde muestre las ocurrencias de cada combinación, encontradas en el inciso anterior."
   ]
  },
  {
   "cell_type": "markdown",
   "metadata": {},
   "source": [
    "5. [30%] Encontrar la probabilidad de las uniones de dos conjuntos y tres conjuntos, asignados para cada persona por la función `asignacion()`. Por ejemplo: $P(A \\cup B)$ y $P(A \\cup B \\cup C)$. Especificar las ecuaciones utilizadas, si fue el caso.\n",
    "\n",
    "7. [15%] Si un cliente compró el producto P1, ¿cuál es la probabilidad de haber comprado también el producto P2? Donde P1 y P2 son asignados con la función `asignacion()`.\n",
    "\n",
    "#### Función de asignación\n",
    "\n",
    "Ejemplo: si el carné es B12345, utilizar la parte numérica como argumento de la función, es decir: `asignacion(12345)`. Esto va a generar resultados aleatorios pero fijos, o sea, que serán los mismos aun cuando se ejecute varias veces el programa."
   ]
  },
  {
   "cell_type": "code",
   "execution_count": 10,
   "metadata": {},
   "outputs": [
    {
     "name": "stdout",
     "output_type": "stream",
     "text": [
      "Asignación:\n",
      "P(C u D)\n",
      "P(D u A u B)\n",
      "P1 = B, P2 = A\n"
     ]
    }
   ],
   "source": [
    "import random\n",
    "\n",
    "def asignacion(digitos):\n",
    "    '''Función que asigna dos combinaciones\n",
    "    de dos y tres conjuntos a cada persona\n",
    "    con base en los dígitos de su carné.\n",
    "    '''\n",
    "    opciones = ('A', 'B', 'C', 'D')\n",
    "    random.seed(digitos)\n",
    "    A1, A2 = random.sample(opciones, k=2)\n",
    "    B1, B2, B3 = random.sample(opciones, k=3)\n",
    "    P1, P2 = random.sample(opciones, k=2)\n",
    "    print('Asignación:\\nP({} u {})\\nP({} u {} u {})\\nP1 = {}, P2 = {}'.format(A1, A2, B1, B2, B3, P1, P2))\n",
    "    return\n",
    "\n",
    "# Llamar la función con los dígitos numéricos del carné\n",
    "asignacion(42629)"
   ]
  },
  {
   "cell_type": "markdown",
   "metadata": {},
   "source": [
    "---\n",
    "**Forma de entrega**\n",
    "\n",
    "- Puede utilizar este archivo `.ipynb` como base.\n",
    "- Recuerde convertir el archivo con su *solución comentada* para entregarlo en formato HTML (para visualizar en web), en **File > Download as > HTML (.html)** y ponerle el nombre `[carné].html` (ejemplo: B12345.html)."
   ]
  },
  {
   "cell_type": "markdown",
   "metadata": {},
   "source": [
    "### Soluciones\n",
    "\n",
    "#### Ejercicio 1:\n",
    "\n",
    "Utilizando la biblioteca pandas tanto para leer el archivo.csv como para operar en los datos se crean dataframes de cada columna y se calculan las frecuencias relativas de compra de cada producto. La función `relative_freq()` retorna una lista con la cantidad de compras por producto para ser utilizada en el punto 2\n",
    "\n",
    "En estadistica la frecuencia relativa $f_r$ se obtiene dividiendo la frecuencia absoluta $f_a$ de una muestra entre el total de valores $N$ de la muestra, es decir:\n",
    "\n",
    "$$f_r = \\frac{f_a}{N}$$\n",
    "\n"
   ]
  },
  {
   "cell_type": "code",
   "execution_count": 11,
   "metadata": {},
   "outputs": [
    {
     "name": "stdout",
     "output_type": "stream",
     "text": [
      "Frecuencias relativas - A: 0.67 B: 0.196 C: 0.596 D: 0.392\n"
     ]
    }
   ],
   "source": [
    "import csv\n",
    "import numpy as np\n",
    "import math\n",
    "import pandas as pd\n",
    "import matplotlib.pyplot as plt\n",
    "\n",
    "\n",
    "def relative_freq() -> list:\n",
    "    \"\"\"\n",
    "    Asignacion: 1\n",
    "    Calcula las frecuencias relativas en el archivo.csv\n",
    "    return: Una lista con las cantidad de compras por producto\n",
    "    \"\"\"\n",
    "    # Se leen los datos del archivo.csv con la funcion de pandas read_csv\n",
    "    # Se guardan los datos en la variable data\n",
    "    data = pd.read_csv(r'compras.csv')\n",
    "    # Se crea un objeto tipo DataFrame de pandas para cada columna\n",
    "    data_frame_a = pd.DataFrame(data, columns=['A'])\n",
    "    data_frame_b = pd.DataFrame(data, columns=['B'])\n",
    "    data_frame_c = pd.DataFrame(data, columns=['C'])\n",
    "    data_frame_d = pd.DataFrame(data, columns=['D'])\n",
    "    '''Se calcula la frecuencia de aparición de cada elemento\n",
    "    utilizando la función value_counts'''\n",
    "    # Se usa sort = false para no ordenarlos por cantidad de apariciones\n",
    "    # Se utiliza normalize para calcular la frecuencia relativa directamente\n",
    "    a_relative_f = data_frame_a['A'].value_counts(normalize=True, sort=False)\n",
    "    b_relative_f = data_frame_b['B'].value_counts(normalize=True, sort=False)\n",
    "    c_relative_f = data_frame_c['C'].value_counts(normalize=True, sort=False)\n",
    "    d_relative_f = data_frame_d['D'].value_counts(normalize=True, sort=False)\n",
    "    '''las variables count cuentan la cantidad de veces que se repite\n",
    "    un elemento en cada columna''' \n",
    "    a_count = data_frame_a['A'].value_counts(sort=False)\n",
    "    b_count = data_frame_b['B'].value_counts(sort=False)\n",
    "    c_count = data_frame_c['C'].value_counts(sort=False)\n",
    "    d_count = data_frame_d['D'].value_counts(sort=False)\n",
    "    purchase_amount = [a_count[1], b_count[1], c_count[1], d_count[1]]\n",
    "    # Las frecuencias relativas se reciben como un arreglo\n",
    "    # a_relative_f[0] contiene la frecuencia relativa de la no compra(0)\n",
    "    # a_relative_f[1] contiene la frecuencia relativa de la compra (1)\n",
    "    relative_frequencies = \\\n",
    "        [a_relative_f[1], b_relative_f[1], c_relative_f[1], d_relative_f[1]]\n",
    "    print(\"Frecuencias relativas - A: {} B: {} C: {} D: {}\"\n",
    "          .format(relative_frequencies[0], relative_frequencies[1],\n",
    "                  relative_frequencies[2], relative_frequencies[3]))\n",
    "    return purchase_amount\n",
    "\n",
    "\n",
    "# Se llaman las funciones    \n",
    "purchase_amount = relative_freq()\n",
    "#bar_graph(purchase_amount)"
   ]
  },
  {
   "cell_type": "markdown",
   "metadata": {},
   "source": [
    "#### Ejercicio 2:\n",
    "\n",
    "Para graficar la cantidad A, B, C, D de productos comprados se utiliza la biblioteca matplotlib, utilizando la lista creada en la función `relative_freq()` del primer punto punto 1"
   ]
  },
  {
   "cell_type": "code",
   "execution_count": 12,
   "metadata": {},
   "outputs": [
    {
     "data": {
      "image/png": "[encoded data removed]",
      "text/plain": [
       "<Figure size 432x288 with 1 Axes>"
      ]
     },
     "metadata": {
      "needs_background": "light"
     },
     "output_type": "display_data"
    }
   ],
   "source": [
    "def bar_graph(purchase_amount: list) -> None:\n",
    "    \"\"\"\n",
    "    Asignación: 2\n",
    "    Realiza un gráfico de barras a partir de una lista\n",
    "    de frecuencias relativas\n",
    "    param purchase_amout: lista con la cantidad de compras por producto\n",
    "    \"\"\"\n",
    "    # Agrega la lista de frecuencias relativas y los índices a la figura\n",
    "    index = ['A', 'B', 'C', 'D']\n",
    "    plt.bar(index, purchase_amount)\n",
    "    plt.title(\"Compras por producto\")\n",
    "    plt.xlabel(\"Producto\")\n",
    "    plt.ylabel(\"Cantidad de compras\")\n",
    "    # Se muestra la figura graficada\n",
    "    plt.show()\n",
    "    \n",
    "    \n",
    "# Se llaman las funciones    \n",
    "bar_graph(purchase_amount)    "
   ]
  },
  {
   "cell_type": "markdown",
   "metadata": {},
   "source": [
    "#### Ejercicio 3:\n",
    "\n",
    "Para obtener la frecuencia relativa de combinaciones de compra por cliente, se hace uso de la biblioteca `csv` para leer el `compra.csv` y se utiliza lógica normal de python para acceder a los datos. La idea detrás de esta solución es obtener la combinación de productos de compra por cada fila(persona) y tratar a cada combinación como un número binario, donde dicho número es el índice de una lista `frequencies` donde se cuenta la cantidad de aparición por cada combinación. Es decir si un cliente compra los productos A y D (1, 0, 0, 1), entonces esta combinación tiene como indice un 9, como se muestra en la siguiente tabla:\n",
    "\n",
    "| Índice | A | B | C | D |\n",
    "|--------|---|---|---|---|\n",
    "| 0      | 0 | 0 | 0 | 0 |\n",
    "| 1      | 0 | 0 | 0 | 1 |\n",
    "| 2      | 0 | 0 | 1 | 0 |\n",
    "| 3      | 0 | 0 | 1 | 1 |\n",
    "| 4      | 0 | 1 | 0 | 0 |\n",
    "| 5      | 0 | 1 | 0 | 1 |\n",
    "| 6      | 0 | 1 | 1 | 0 |\n",
    "| 7      | 0 | 1 | 1 | 1 |\n",
    "| 8      | 1 | 0 | 0 | 0 |\n",
    "| 9      | 1 | 0 | 0 | 1 |\n",
    "| 10     | 1 | 0 | 1 | 0 |\n",
    "| 11     | 1 | 0 | 1 | 1 |\n",
    "| 12     | 1 | 1 | 0 | 0 |\n",
    "| 13     | 1 | 1 | 0 | 1 |\n",
    "| 14     | 1 | 1 | 1 | 0 |\n",
    "| 15     | 1 | 1 | 1 | 1 |\n"
   ]
  },
  {
   "cell_type": "code",
   "execution_count": 13,
   "metadata": {},
   "outputs": [
    {
     "name": "stdout",
     "output_type": "stream",
     "text": [
      "Frecuencias relativas por combinación: \n",
      " [0.07, 0.058, 0.106, 0.038, 0.014, 0.008, 0.022, 0.014, 0.106, 0.092, 0.206, 0.128, 0.036, 0.02, 0.048, 0.034]\n"
     ]
    }
   ],
   "source": [
    "def combination_relative_freq(filepath: str) -> list:\n",
    "    \"\"\"\n",
    "    Asignación: 3\n",
    "    Calcula las frecuencias relativas de cada combinación de\n",
    "    compra por cliente\n",
    "    \"\"\"\n",
    "    # Cantidad de combinaciones\n",
    "    combinations = 16\n",
    "    # Lista con la cantidad de apariciones de cada combinación\n",
    "    frequencies = [0]*combinations\n",
    "    # Números enteros con la combinación de productos comprados\n",
    "    producto_a, producto_b, producto_c, producto_d = 0, 0, 0, 0\n",
    "    '''Num es un número para indicar la combinación\n",
    "    donde A es el bit mas significativo y D el menos significativo'''\n",
    "    num = 0\n",
    "    # total es la cantidad de personas que compraron los productos\n",
    "    total = 0\n",
    "    with open(filepath, newline='') as csvfile:\n",
    "        reader = csv.reader(csvfile, delimiter=' ', quotechar='|')\n",
    "        # Se lee cada fila en el csv\n",
    "        for row in reader:\n",
    "            # se separan los elementos por ','\n",
    "            elements = row[0].split(',')\n",
    "            # ignoramos la primer línea\n",
    "            if (elements[0] == \"Cliente\"):\n",
    "                pass\n",
    "            else:\n",
    "                producto_a, producto_b = int(elements[1]), int(elements[2])\n",
    "                producto_c, producto_d = int(elements[3]), int(elements[4])\n",
    "                total += 1  # Se aumenta el total de elementos\n",
    "                # Se opera sobre los productos como con un número binario\n",
    "                num = producto_d + 2*producto_c + 4*producto_b + 8*producto_a\n",
    "                # Se aumenta la frecuencia de esa combinación\n",
    "                frequencies[num] += 1\n",
    "    for i in range(len(frequencies)):\n",
    "        frequencies[i] /= total\n",
    "    print(\"Frecuencias relativas por combinación: \\n\", frequencies)\n",
    "    return frequencies\n",
    "\n",
    "\n",
    "# Se llaman las funciones\n",
    "combination_frequencies = combination_relative_freq('compras.csv')"
   ]
  },
  {
   "cell_type": "markdown",
   "metadata": {},
   "source": [
    "#### Ejercicio 4:\n",
    "\n",
    "Para este ejercicio, se grafican las frecuencias relativas por combinacion utilizando las bibliotecas `pandas` y `matplotlib`"
   ]
  },
  {
   "cell_type": "code",
   "execution_count": 14,
   "metadata": {},
   "outputs": [
    {
     "data": {
      "image/png": "[encoded data removed]",
      "text/plain": [
       "<Figure size 432x288 with 1 Axes>"
      ]
     },
     "metadata": {
      "needs_background": "light"
     },
     "output_type": "display_data"
    }
   ],
   "source": [
    "def combination_bar_graph(combination_frequencies: list) -> None:\n",
    "    \"\"\"\n",
    "    Asignación: 4\n",
    "    Realiza un gráfico de barras a partir de una lista\n",
    "    de frecuencias relativas\n",
    "    param cantidad_compras: lista con la cantidad de compras por producto\n",
    "    \"\"\"\n",
    "    titulo = \"Frecuencia relativa de la combinación de productos comprados\"\n",
    "    # Se crean los indices de combinaciones\n",
    "    index = ['Nada', 'D', 'C', 'CD', 'B', 'BD', 'BC', 'BCD',\n",
    "             'A', 'AD', 'AC', 'ACD', 'AB', 'ABD', 'ABC', 'ABCD']\n",
    "    ''' Agrega la lista de frecuencias relativas de ocurrencia de cada\n",
    "    combinación y los ídices al data frame '''\n",
    "    df = pd.DataFrame({'Frecuencia de ocurrencia por combinación':\n",
    "                       combination_frequencies}, index=index)\n",
    "    ax = df.plot.barh()\n",
    "    # Se agrega la rotulacion de los ejes y se muestra la figura\n",
    "    ax.set_title(titulo)\n",
    "    ax.set_xlabel(\"Frecuencia relativa\")\n",
    "    ax.set_ylabel(\"Combinaciones\")\n",
    "    plt.show()\n",
    "\n",
    "\n",
    "# Se llaman las funciones\n",
    "combination_bar_graph(combination_frequencies)"
   ]
  },
  {
   "cell_type": "markdown",
   "metadata": {},
   "source": [
    "#### Ejercicio 5:\n",
    "\n",
    "Segun la función de`asignacion()`. Se calcula: $P(C \\cup D)$ y $D \\cup A \\cup B)$."
   ]
  },
  {
   "cell_type": "markdown",
   "metadata": {},
   "source": [
    "#### Ejercicio 6:\n",
    "\n",
    "Según la función `asignacion()` se tiene que $P1 = B$ y $P2 = A$, entonces la probablilidad de que un cliente compre A dado que ya compró B es $P(A|B)$"
   ]
  },
  {
   "cell_type": "markdown",
   "metadata": {},
   "source": [
    "---\n",
    "**Universidad de Costa Rica** | Facultad de Ingeniería | Escuela de Ingeniería Eléctrica\n",
    "\n",
    "&copy; 2022\n",
    "\n",
    "---"
   ]
  }
 ],
 "metadata": {
  "kernelspec": {
   "display_name": "Python 3",
   "language": "python",
   "name": "python3"
  },
  "language_info": {
   "codemirror_mode": {
    "name": "ipython",
    "version": 3
   },
   "file_extension": ".py",
   "mimetype": "text/x-python",
   "name": "python",
   "nbconvert_exporter": "python",
   "pygments_lexer": "ipython3",
   "version": "3.7.0"
  }
 },
 "nbformat": 4,
 "nbformat_minor": 2
}
